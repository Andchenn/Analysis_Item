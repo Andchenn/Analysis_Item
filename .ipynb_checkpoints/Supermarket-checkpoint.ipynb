{
 "cells": [
  {
   "cell_type": "code",
   "execution_count": 14,
   "metadata": {},
   "outputs": [
    {
     "data": {
      "text/html": [
       "<div>\n",
       "<style scoped>\n",
       "    .dataframe tbody tr th:only-of-type {\n",
       "        vertical-align: middle;\n",
       "    }\n",
       "\n",
       "    .dataframe tbody tr th {\n",
       "        vertical-align: top;\n",
       "    }\n",
       "\n",
       "    .dataframe thead th {\n",
       "        text-align: right;\n",
       "    }\n",
       "</style>\n",
       "<table border=\"1\" class=\"dataframe\">\n",
       "  <thead>\n",
       "    <tr style=\"text-align: right;\">\n",
       "      <th></th>\n",
       "      <th>商品ID</th>\n",
       "      <th>类别ID</th>\n",
       "      <th>门店编号</th>\n",
       "      <th>单价</th>\n",
       "      <th>销量</th>\n",
       "      <th>成交时间</th>\n",
       "      <th>订单ID</th>\n",
       "    </tr>\n",
       "  </thead>\n",
       "  <tbody>\n",
       "    <tr>\n",
       "      <th>0</th>\n",
       "      <td>30006206</td>\n",
       "      <td>915000003</td>\n",
       "      <td>CDNL</td>\n",
       "      <td>25.23</td>\n",
       "      <td>0.328</td>\n",
       "      <td>2017-01-03 09:56:00</td>\n",
       "      <td>20170103CDLG000210052759</td>\n",
       "    </tr>\n",
       "    <tr>\n",
       "      <th>1</th>\n",
       "      <td>30163281</td>\n",
       "      <td>914010000</td>\n",
       "      <td>CDNL</td>\n",
       "      <td>2.00</td>\n",
       "      <td>2.000</td>\n",
       "      <td>2017-01-03 09:56:00</td>\n",
       "      <td>20170103CDLG000210052759</td>\n",
       "    </tr>\n",
       "    <tr>\n",
       "      <th>2</th>\n",
       "      <td>30200518</td>\n",
       "      <td>922000000</td>\n",
       "      <td>CDNL</td>\n",
       "      <td>19.62</td>\n",
       "      <td>0.230</td>\n",
       "      <td>2017-01-03 09:56:00</td>\n",
       "      <td>20170103CDLG000210052759</td>\n",
       "    </tr>\n",
       "    <tr>\n",
       "      <th>3</th>\n",
       "      <td>29989105</td>\n",
       "      <td>922000000</td>\n",
       "      <td>CDNL</td>\n",
       "      <td>2.80</td>\n",
       "      <td>2.044</td>\n",
       "      <td>2017-01-03 09:56:00</td>\n",
       "      <td>20170103CDLG000210052759</td>\n",
       "    </tr>\n",
       "    <tr>\n",
       "      <th>4</th>\n",
       "      <td>30179558</td>\n",
       "      <td>915000100</td>\n",
       "      <td>CDNL</td>\n",
       "      <td>47.41</td>\n",
       "      <td>0.226</td>\n",
       "      <td>2017-01-03 09:56:00</td>\n",
       "      <td>20170103CDLG000210052759</td>\n",
       "    </tr>\n",
       "  </tbody>\n",
       "</table>\n",
       "</div>"
      ],
      "text/plain": [
       "       商品ID       类别ID  门店编号     单价     销量                成交时间  \\\n",
       "0  30006206  915000003  CDNL  25.23  0.328 2017-01-03 09:56:00   \n",
       "1  30163281  914010000  CDNL   2.00  2.000 2017-01-03 09:56:00   \n",
       "2  30200518  922000000  CDNL  19.62  0.230 2017-01-03 09:56:00   \n",
       "3  29989105  922000000  CDNL   2.80  2.044 2017-01-03 09:56:00   \n",
       "4  30179558  915000100  CDNL  47.41  0.226 2017-01-03 09:56:00   \n",
       "\n",
       "                       订单ID  \n",
       "0  20170103CDLG000210052759  \n",
       "1  20170103CDLG000210052759  \n",
       "2  20170103CDLG000210052759  \n",
       "3  20170103CDLG000210052759  \n",
       "4  20170103CDLG000210052759  "
      ]
     },
     "execution_count": 14,
     "metadata": {},
     "output_type": "execute_result"
    }
   ],
   "source": [
    "import pandas as pd\n",
    "from datetime import datetime\n",
    "# 导入数据源\n",
    "data=pd.read_csv(\"order-14.3.csv\",parse_dates=[\"成交时间\"],encoding='gbk')\n",
    "data.head()\n",
    "# data.shape"
   ]
  },
  {
   "cell_type": "code",
   "execution_count": 20,
   "metadata": {},
   "outputs": [
    {
     "data": {
      "text/html": [
       "<div>\n",
       "<style scoped>\n",
       "    .dataframe tbody tr th:only-of-type {\n",
       "        vertical-align: middle;\n",
       "    }\n",
       "\n",
       "    .dataframe tbody tr th {\n",
       "        vertical-align: top;\n",
       "    }\n",
       "\n",
       "    .dataframe thead th {\n",
       "        text-align: right;\n",
       "    }\n",
       "</style>\n",
       "<table border=\"1\" class=\"dataframe\">\n",
       "  <thead>\n",
       "    <tr style=\"text-align: right;\">\n",
       "      <th></th>\n",
       "      <th>类别ID</th>\n",
       "      <th>销量</th>\n",
       "    </tr>\n",
       "  </thead>\n",
       "  <tbody>\n",
       "    <tr>\n",
       "      <th>240</th>\n",
       "      <td>922000003</td>\n",
       "      <td>425.328</td>\n",
       "    </tr>\n",
       "    <tr>\n",
       "      <th>239</th>\n",
       "      <td>922000002</td>\n",
       "      <td>206.424</td>\n",
       "    </tr>\n",
       "    <tr>\n",
       "      <th>251</th>\n",
       "      <td>923000006</td>\n",
       "      <td>190.294</td>\n",
       "    </tr>\n",
       "    <tr>\n",
       "      <th>216</th>\n",
       "      <td>915030104</td>\n",
       "      <td>175.059</td>\n",
       "    </tr>\n",
       "    <tr>\n",
       "      <th>238</th>\n",
       "      <td>922000001</td>\n",
       "      <td>121.355</td>\n",
       "    </tr>\n",
       "    <tr>\n",
       "      <th>367</th>\n",
       "      <td>960000000</td>\n",
       "      <td>121.000</td>\n",
       "    </tr>\n",
       "    <tr>\n",
       "      <th>234</th>\n",
       "      <td>920090000</td>\n",
       "      <td>111.565</td>\n",
       "    </tr>\n",
       "    <tr>\n",
       "      <th>249</th>\n",
       "      <td>923000002</td>\n",
       "      <td>91.847</td>\n",
       "    </tr>\n",
       "    <tr>\n",
       "      <th>237</th>\n",
       "      <td>922000000</td>\n",
       "      <td>86.395</td>\n",
       "    </tr>\n",
       "    <tr>\n",
       "      <th>247</th>\n",
       "      <td>923000000</td>\n",
       "      <td>85.845</td>\n",
       "    </tr>\n",
       "  </tbody>\n",
       "</table>\n",
       "</div>"
      ],
      "text/plain": [
       "          类别ID       销量\n",
       "240  922000003  425.328\n",
       "239  922000002  206.424\n",
       "251  923000006  190.294\n",
       "216  915030104  175.059\n",
       "238  922000001  121.355\n",
       "367  960000000  121.000\n",
       "234  920090000  111.565\n",
       "249  923000002   91.847\n",
       "237  922000000   86.395\n",
       "247  923000000   85.845"
      ]
     },
     "execution_count": 20,
     "metadata": {},
     "output_type": "execute_result"
    }
   ],
   "source": [
    "# 哪些类别的商品比较畅销\n",
    "# ascending=False 降序\n",
    "data.groupby(\"类别ID\")[\"销量\"].sum().reset_index().sort_values(by=\"销量\",ascending=False).head(10)"
   ]
  },
  {
   "cell_type": "code",
   "execution_count": 22,
   "metadata": {},
   "outputs": [
    {
     "data": {
      "text/html": [
       "<div>\n",
       "<style scoped>\n",
       "    .dataframe tbody tr th:only-of-type {\n",
       "        vertical-align: middle;\n",
       "    }\n",
       "\n",
       "    .dataframe tbody tr th {\n",
       "        vertical-align: top;\n",
       "    }\n",
       "\n",
       "    .dataframe thead th {\n",
       "        text-align: right;\n",
       "    }\n",
       "</style>\n",
       "<table border=\"1\" class=\"dataframe\">\n",
       "  <thead>\n",
       "    <tr style=\"text-align: right;\">\n",
       "      <th></th>\n",
       "      <th>商品ID</th>\n",
       "      <th>销量</th>\n",
       "    </tr>\n",
       "  </thead>\n",
       "  <tbody>\n",
       "    <tr>\n",
       "      <th>8</th>\n",
       "      <td>29989059</td>\n",
       "      <td>391.549</td>\n",
       "    </tr>\n",
       "    <tr>\n",
       "      <th>18</th>\n",
       "      <td>29989072</td>\n",
       "      <td>102.876</td>\n",
       "    </tr>\n",
       "    <tr>\n",
       "      <th>469</th>\n",
       "      <td>30022232</td>\n",
       "      <td>101.000</td>\n",
       "    </tr>\n",
       "    <tr>\n",
       "      <th>523</th>\n",
       "      <td>30031960</td>\n",
       "      <td>99.998</td>\n",
       "    </tr>\n",
       "    <tr>\n",
       "      <th>57</th>\n",
       "      <td>29989157</td>\n",
       "      <td>72.453</td>\n",
       "    </tr>\n",
       "    <tr>\n",
       "      <th>476</th>\n",
       "      <td>30023041</td>\n",
       "      <td>64.416</td>\n",
       "    </tr>\n",
       "    <tr>\n",
       "      <th>505</th>\n",
       "      <td>30026255</td>\n",
       "      <td>62.375</td>\n",
       "    </tr>\n",
       "    <tr>\n",
       "      <th>7</th>\n",
       "      <td>29989058</td>\n",
       "      <td>56.052</td>\n",
       "    </tr>\n",
       "    <tr>\n",
       "      <th>510</th>\n",
       "      <td>30027007</td>\n",
       "      <td>48.757</td>\n",
       "    </tr>\n",
       "    <tr>\n",
       "      <th>903</th>\n",
       "      <td>30171264</td>\n",
       "      <td>45.000</td>\n",
       "    </tr>\n",
       "  </tbody>\n",
       "</table>\n",
       "</div>"
      ],
      "text/plain": [
       "         商品ID       销量\n",
       "8    29989059  391.549\n",
       "18   29989072  102.876\n",
       "469  30022232  101.000\n",
       "523  30031960   99.998\n",
       "57   29989157   72.453\n",
       "476  30023041   64.416\n",
       "505  30026255   62.375\n",
       "7    29989058   56.052\n",
       "510  30027007   48.757\n",
       "903  30171264   45.000"
      ]
     },
     "execution_count": 22,
     "metadata": {},
     "output_type": "execute_result"
    }
   ],
   "source": [
    "# 哪些商品比较畅销\n",
    "pd.pivot_table(data,index=\"商品ID\",values=\"销量\",aggfunc=\"sum\").reset_index().sort_values(by=\"销量\",ascending=False).head(10)"
   ]
  },
  {
   "cell_type": "code",
   "execution_count": 25,
   "metadata": {},
   "outputs": [
    {
     "data": {
      "text/plain": [
       "门店编号\n",
       "CDLG    10908.82612\n",
       "CDNL     8059.47867\n",
       "CDXL     9981.76166\n",
       "Name: 销售额, dtype: float64"
      ]
     },
     "execution_count": 25,
     "metadata": {},
     "output_type": "execute_result"
    }
   ],
   "source": [
    "# 不同门店的销售额占比\n",
    "data[\"销售额\"]=data[\"销量\"]*data[\"单价\"]\n",
    "data.groupby(\"门店编号\")[\"销售额\"].sum()\n"
   ]
  },
  {
   "cell_type": "code",
   "execution_count": 29,
   "metadata": {},
   "outputs": [
    {
     "data": {
      "text/plain": [
       "门店编号\n",
       "CDLG    0.376815\n",
       "CDNL    0.278392\n",
       "CDXL    0.344792\n",
       "Name: 销售额, dtype: float64"
      ]
     },
     "execution_count": 29,
     "metadata": {},
     "output_type": "execute_result"
    }
   ],
   "source": [
    "data.groupby(\"门店编号\")[\"销售额\"].sum()/data[\"销售额\"].sum()"
   ]
  },
  {
   "cell_type": "code",
   "execution_count": 30,
   "metadata": {},
   "outputs": [
    {
     "data": {
      "text/plain": [
       "<matplotlib.axes._subplots.AxesSubplot at 0x7fd8f0cfeef0>"
      ]
     },
     "execution_count": 30,
     "metadata": {},
     "output_type": "execute_result"
    },
    {
     "data": {
      "image/png": "[encoded data removed]",
      "text/plain": [
       "<Figure size 432x288 with 1 Axes>"
      ]
     },
     "metadata": {},
     "output_type": "display_data"
    }
   ],
   "source": [
    "import matplotlib as mpl\n",
    "\n",
    "mpl.rcParams[\"font.family\"]=\"SimHei\"\n",
    "mpl.rcParams[\"axes.unicode_minus\"]=False\n",
    "(data.groupby(\"门店编号\")[\"销售额\"].sum()/data[\"销售额\"].sum()).plot.pie()"
   ]
  },
  {
   "cell_type": "code",
   "execution_count": 37,
   "metadata": {},
   "outputs": [
    {
     "data": {
      "text/plain": [
       "<matplotlib.axes._subplots.AxesSubplot at 0x7fd8ee9ce898>"
      ]
     },
     "execution_count": 37,
     "metadata": {},
     "output_type": "execute_result"
    },
    {
     "data": {
      "image/png": "[encoded data removed]",
      "text/plain": [
       "<Figure size 432x288 with 1 Axes>"
      ]
     },
     "metadata": {
      "needs_background": "light"
     },
     "output_type": "display_data"
    }
   ],
   "source": [
    "# 哪个时间段是超市的客流高封期\n",
    "# 利用自定义时间格式函数strftime提取小时数\n",
    "data[\"小时\"]=data[\"成交时间\"].map(lambda x:int(x.strftime(\"%H\")))\n",
    "# 对小时和订单去重\n",
    "traffic=data[[\"小时\",\"订单ID\"]].drop_duplicates()\n",
    "# 求每小时的客流量\n",
    "traffic.groupby(\"小时\")[\"订单ID\"].count().plot()"
   ]
  },
  {
   "cell_type": "code",
   "execution_count": null,
   "metadata": {},
   "outputs": [],
   "source": []
  }
 ],
 "metadata": {
  "kernelspec": {
   "display_name": "Python 3",
   "language": "python",
   "name": "python3"
  },
  "language_info": {
   "codemirror_mode": {
    "name": "ipython",
    "version": 3
   },
   "file_extension": ".py",
   "mimetype": "text/x-python",
   "name": "python",
   "nbconvert_exporter": "python",
   "pygments_lexer": "ipython3",
   "version": "3.7.3"
  },
  "toc": {
   "base_numbering": 1,
   "nav_menu": {},
   "number_sections": true,
   "sideBar": true,
   "skip_h1_title": false,
   "title_cell": "Table of Contents",
   "title_sidebar": "Contents",
   "toc_cell": false,
   "toc_position": {},
   "toc_section_display": true,
   "toc_window_display": false
  }
 },
 "nbformat": 4,
 "nbformat_minor": 2
}
