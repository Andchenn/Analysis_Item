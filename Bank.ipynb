{
 "cells": [
  {
   "cell_type": "code",
   "execution_count": 8,
   "metadata": {},
   "outputs": [
    {
     "name": "stdout",
     "output_type": "stream",
     "text": [
      "<class 'pandas.core.frame.DataFrame'>\n",
      "RangeIndex: 150000 entries, 0 to 149999\n",
      "Data columns (total 6 columns):\n",
      "用户ID    150000 non-null int64\n",
      "好坏客户    150000 non-null int64\n",
      "年龄      150000 non-null int64\n",
      "负债率     150000 non-null float64\n",
      "月收入     120269 non-null float64\n",
      "家属数量    146076 non-null float64\n",
      "dtypes: float64(3), int64(3)\n",
      "memory usage: 6.9 MB\n"
     ]
    }
   ],
   "source": [
    "import pandas as pd\n",
    "from datetime import datetime\n",
    "\n",
    "data=pd.read_csv(\"loan.csv\",encoding=\"gbk\")\n",
    "data.info()\n",
    "# print(data)"
   ]
  },
  {
   "cell_type": "code",
   "execution_count": 12,
   "metadata": {},
   "outputs": [
    {
     "name": "stdout",
     "output_type": "stream",
     "text": [
      "<class 'pandas.core.frame.DataFrame'>\n",
      "RangeIndex: 150000 entries, 0 to 149999\n",
      "Data columns (total 6 columns):\n",
      "用户ID    150000 non-null int64\n",
      "好坏客户    150000 non-null int64\n",
      "年龄      150000 non-null int64\n",
      "负债率     150000 non-null float64\n",
      "月收入     150000 non-null float64\n",
      "家属数量    146076 non-null float64\n",
      "dtypes: float64(3), int64(3)\n",
      "memory usage: 6.9 MB\n",
      "None\n",
      "          用户ID  好坏客户  年龄          负债率           月收入  家属数量\n",
      "0            1     1  45     0.802982   9120.000000   2.0\n",
      "1            2     0  40     0.121876   2600.000000   1.0\n",
      "2            3     0  38     0.085113   3042.000000   0.0\n",
      "3            4     0  30     0.036050   3300.000000   0.0\n",
      "4            5     0  49     0.024926  63588.000000   0.0\n",
      "5            6     0  74     0.375607   3500.000000   1.0\n",
      "6            7     0  57  5710.000000   6670.221237   0.0\n",
      "7            8     0  39     0.209940   3500.000000   0.0\n",
      "8            9     0  27    46.000000   6670.221237   NaN\n",
      "9           10     0  57     0.606291  23684.000000   2.0\n",
      "10          11     0  30     0.309476   2500.000000   0.0\n",
      "11          12     0  51     0.531529   6501.000000   2.0\n",
      "12          13     0  46     0.298354  12454.000000   2.0\n",
      "13          14     1  40     0.382965  13700.000000   2.0\n",
      "14          15     0  76   477.000000      0.000000   0.0\n",
      "15          16     0  64     0.209892  11362.000000   2.0\n",
      "16          17     0  78  2058.000000   6670.221237   0.0\n",
      "17          18     0  53     0.188274   8800.000000   0.0\n",
      "18          19     0  43     0.527888   3280.000000   2.0\n",
      "19          20     0  25     0.065868    333.000000   0.0\n",
      "20          21     0  43     0.430046  12300.000000   0.0\n",
      "21          22     1  38     0.475841   3000.000000   2.0\n",
      "22          23     0  39     0.241104   2500.000000   0.0\n",
      "23          24     0  32     0.085512   7916.000000   0.0\n",
      "24          25     0  58     0.241622   2416.000000   0.0\n",
      "25          26     1  50     1.595253   4676.000000   1.0\n",
      "26          27     0  58     0.097672   8333.000000   0.0\n",
      "27          28     0  69     0.042383   2500.000000   1.0\n",
      "28          29     0  24     0.011761   3400.000000   0.0\n",
      "29          30     0  58     0.436103   5500.000000   0.0\n",
      "...        ...   ...  ..          ...           ...   ...\n",
      "149970  149971     0  58     0.253855  15500.000000   2.0\n",
      "149971  149972     0  83     0.013997   5000.000000   0.0\n",
      "149972  149973     0  42     0.008638   6945.000000   1.0\n",
      "149973  149974     0  44     0.494819   5500.000000   1.0\n",
      "149974  149975     0  61     0.603479   5000.000000   0.0\n",
      "149975  149976     0  58  2716.000000   6670.221237   0.0\n",
      "149976  149977     0  76    60.000000   6670.221237   0.0\n",
      "149977  149978     0  29   349.000000   6670.221237   0.0\n",
      "149978  149979     0  52     0.259496   2500.000000   0.0\n",
      "149979  149980     1  55     0.057235   8700.000000   0.0\n",
      "149980  149981     0  64     0.254976   5525.000000   0.0\n",
      "149981  149982     0  43     0.121752   6849.000000   4.0\n",
      "149982  149983     0  37     0.250272   2760.000000   3.0\n",
      "149983  149984     0  82     0.000800   5000.000000   0.0\n",
      "149984  149985     0  84    25.000000   6670.221237   0.0\n",
      "149985  149986     0  26     0.324962   1950.000000   0.0\n",
      "149986  149987     0  49     0.080384   5000.000000   1.0\n",
      "149987  149988     0  28     0.055692   3249.000000   0.0\n",
      "149988  149989     0  31     0.347924   7515.000000   0.0\n",
      "149989  149990     0  62     0.001408   9233.000000   3.0\n",
      "149990  149991     0  46     0.609779   4335.000000   2.0\n",
      "149991  149992     0  59     0.477658  10316.000000   0.0\n",
      "149992  149993     0  50  4132.000000   6670.221237   3.0\n",
      "149993  149994     0  22     0.000000    820.000000   0.0\n",
      "149994  149995     0  50     0.404293   3400.000000   0.0\n",
      "149995  149996     0  74     0.225131   2100.000000   0.0\n",
      "149996  149997     0  44     0.716562   5584.000000   2.0\n",
      "149997  149998     0  58  3870.000000   6670.221237   0.0\n",
      "149998  149999     0  30     0.000000   5716.000000   0.0\n",
      "149999  150000     0  64     0.249908   8158.000000   0.0\n",
      "\n",
      "[150000 rows x 6 columns]\n"
     ]
    }
   ],
   "source": [
    "# 是不是收入越高的人坏账率越低\n",
    "data=data.fillna({\"月收入\":data[\"月收入\"].mean()})\n",
    "print(data.info())\n",
    "print(data)"
   ]
  },
  {
   "cell_type": "code",
   "execution_count": null,
   "metadata": {},
   "outputs": [],
   "source": []
  },
  {
   "cell_type": "code",
   "execution_count": 11,
   "metadata": {},
   "outputs": [
    {
     "name": "stdout",
     "output_type": "stream",
     "text": [
      "0           (5000.0, 10000.0]\n",
      "1               (0.0, 5000.0]\n",
      "2               (0.0, 5000.0]\n",
      "3               (0.0, 5000.0]\n",
      "4         (20000.0, 100000.0]\n",
      "5               (0.0, 5000.0]\n",
      "6           (5000.0, 10000.0]\n",
      "7               (0.0, 5000.0]\n",
      "8           (5000.0, 10000.0]\n",
      "9         (20000.0, 100000.0]\n",
      "10              (0.0, 5000.0]\n",
      "11          (5000.0, 10000.0]\n",
      "12         (10000.0, 15000.0]\n",
      "13         (10000.0, 15000.0]\n",
      "14                        NaN\n",
      "15         (10000.0, 15000.0]\n",
      "16          (5000.0, 10000.0]\n",
      "17          (5000.0, 10000.0]\n",
      "18              (0.0, 5000.0]\n",
      "19              (0.0, 5000.0]\n",
      "20         (10000.0, 15000.0]\n",
      "21              (0.0, 5000.0]\n",
      "22              (0.0, 5000.0]\n",
      "23          (5000.0, 10000.0]\n",
      "24              (0.0, 5000.0]\n",
      "25              (0.0, 5000.0]\n",
      "26          (5000.0, 10000.0]\n",
      "27              (0.0, 5000.0]\n",
      "28              (0.0, 5000.0]\n",
      "29          (5000.0, 10000.0]\n",
      "                 ...         \n",
      "149970     (15000.0, 20000.0]\n",
      "149971          (0.0, 5000.0]\n",
      "149972      (5000.0, 10000.0]\n",
      "149973      (5000.0, 10000.0]\n",
      "149974          (0.0, 5000.0]\n",
      "149975      (5000.0, 10000.0]\n",
      "149976      (5000.0, 10000.0]\n",
      "149977      (5000.0, 10000.0]\n",
      "149978          (0.0, 5000.0]\n",
      "149979      (5000.0, 10000.0]\n",
      "149980      (5000.0, 10000.0]\n",
      "149981      (5000.0, 10000.0]\n",
      "149982          (0.0, 5000.0]\n",
      "149983          (0.0, 5000.0]\n",
      "149984      (5000.0, 10000.0]\n",
      "149985          (0.0, 5000.0]\n",
      "149986          (0.0, 5000.0]\n",
      "149987          (0.0, 5000.0]\n",
      "149988      (5000.0, 10000.0]\n",
      "149989      (5000.0, 10000.0]\n",
      "149990          (0.0, 5000.0]\n",
      "149991     (10000.0, 15000.0]\n",
      "149992      (5000.0, 10000.0]\n",
      "149993          (0.0, 5000.0]\n",
      "149994          (0.0, 5000.0]\n",
      "149995          (0.0, 5000.0]\n",
      "149996      (5000.0, 10000.0]\n",
      "149997      (5000.0, 10000.0]\n",
      "149998      (5000.0, 10000.0]\n",
      "149999      (5000.0, 10000.0]\n",
      "Name: 月收入, Length: 150000, dtype: category\n",
      "Categories (5, interval[int64]): [(0, 5000] < (5000, 10000] < (10000, 15000] < (15000, 20000] < (20000, 100000]]\n"
     ]
    }
   ],
   "source": [
    "cut_bins=[0,5000,10000,15000,20000,100000]\n",
    "income_cut=pd.cut(data[\"月收入\"],cut_bins)\n",
    "print(income_cut)"
   ]
  },
  {
   "cell_type": "code",
   "execution_count": 15,
   "metadata": {},
   "outputs": [
    {
     "name": "stdout",
     "output_type": "stream",
     "text": [
      "月收入\n",
      "(0, 5000]          0.087543\n",
      "(5000, 10000]      0.058308\n",
      "(10000, 15000]     0.041964\n",
      "(15000, 20000]     0.041811\n",
      "(20000, 100000]    0.053615\n",
      "Name: 好坏客户, dtype: float64\n"
     ]
    },
    {
     "data": {
      "text/plain": [
       "<matplotlib.axes._subplots.AxesSubplot at 0x7f19ce4ab588>"
      ]
     },
     "execution_count": 15,
     "metadata": {},
     "output_type": "execute_result"
    },
    {
     "data": {
      "image/png": "[encoded data removed]",
      "text/plain": [
       "<Figure size 432x288 with 1 Axes>"
      ]
     },
     "metadata": {
      "needs_background": "light"
     },
     "output_type": "display_data"
    }
   ],
   "source": [
    "import matplotlib.pyplot as plt\n",
    "\n",
    "all_income_user=data[\"好坏客户\"].groupby(income_cut).count()\n",
    "bad_income_user=data[\"好坏客户\"].groupby(income_cut).sum()\n",
    "bad_rate=bad_income_user/all_income_user\n",
    "print(bad_rate)\n",
    "\n",
    "# 绘制月收入与坏账率关系图\n",
    "bad_rate.plot.bar()"
   ]
  },
  {
   "cell_type": "code",
   "execution_count": 21,
   "metadata": {},
   "outputs": [
    {
     "name": "stdout",
     "output_type": "stream",
     "text": [
      "年龄\n",
      "(-0.109, 18.167]    0.000000\n",
      "(18.167, 36.333]    0.110124\n",
      "(36.333, 54.5]      0.081645\n",
      "(54.5, 72.667]      0.041719\n",
      "(72.667, 90.833]    0.021585\n",
      "(90.833, 109.0]     0.022495\n",
      "Name: 好坏客户, dtype: float64\n"
     ]
    },
    {
     "data": {
      "text/plain": [
       "<matplotlib.axes._subplots.AxesSubplot at 0x7f19c7cfe710>"
      ]
     },
     "execution_count": 21,
     "metadata": {},
     "output_type": "execute_result"
    },
    {
     "data": {
      "image/png": "[encoded data removed]",
      "text/plain": [
       "<Figure size 432x288 with 1 Axes>"
      ]
     },
     "metadata": {
      "needs_background": "light"
     },
     "output_type": "display_data"
    }
   ],
   "source": [
    "# 年龄和坏账率有什么关系\n",
    "age_cut=pd.cut(data[\"年龄\"],6)\n",
    "all_age_user=data[\"好坏客户\"].groupby(age_cut).count()\n",
    "bad_age_user=data[\"好坏客户\"].groupby(age_cut).sum()\n",
    "bad_rate=bad_age_user/all_age_user\n",
    "print(bad_rate)\n",
    "\n",
    "bad_rate.plot.bar()"
   ]
  },
  {
   "cell_type": "code",
   "execution_count": 23,
   "metadata": {},
   "outputs": [
    {
     "name": "stdout",
     "output_type": "stream",
     "text": [
      "家属数量\n",
      "0.0     0.058629\n",
      "1.0     0.073529\n",
      "2.0     0.081139\n",
      "3.0     0.088263\n",
      "4.0     0.103774\n",
      "5.0     0.091153\n",
      "6.0     0.151899\n",
      "7.0     0.098039\n",
      "8.0     0.083333\n",
      "9.0     0.000000\n",
      "10.0    0.000000\n",
      "13.0    0.000000\n",
      "20.0    0.000000\n",
      "Name: 好坏客户, dtype: float64\n"
     ]
    }
   ],
   "source": [
    "# 家庭人口数量和坏账率有什么关系\n",
    "all_age_user=data.groupby(\"家属数量\")[\"好坏客户\"].count()\n",
    "bad_age_user=data.groupby(\"家属数量\")[\"好坏客户\"].sum()\n",
    "bad_rate=bad_age_user/all_age_user\n",
    "print(bad_rate)"
   ]
  },
  {
   "cell_type": "code",
   "execution_count": 25,
   "metadata": {},
   "outputs": [
    {
     "data": {
      "text/plain": [
       "<matplotlib.axes._subplots.AxesSubplot at 0x7f19ce71a1d0>"
      ]
     },
     "execution_count": 25,
     "metadata": {},
     "output_type": "execute_result"
    },
    {
     "data": {
      "image/png": "[encoded data removed]",
      "text/plain": [
       "<Figure size 432x288 with 1 Axes>"
      ]
     },
     "metadata": {
      "needs_background": "light"
     },
     "output_type": "display_data"
    }
   ],
   "source": [
    "bad_rate.plot()"
   ]
  },
  {
   "cell_type": "code",
   "execution_count": null,
   "metadata": {},
   "outputs": [],
   "source": []
  }
 ],
 "metadata": {
  "kernelspec": {
   "display_name": "Python 3",
   "language": "python",
   "name": "python3"
  },
  "language_info": {
   "codemirror_mode": {
    "name": "ipython",
    "version": 3
   },
   "file_extension": ".py",
   "mimetype": "text/x-python",
   "name": "python",
   "nbconvert_exporter": "python",
   "pygments_lexer": "ipython3",
   "version": "3.7.3"
  },
  "toc": {
   "base_numbering": 1,
   "nav_menu": {},
   "number_sections": true,
   "sideBar": true,
   "skip_h1_title": false,
   "title_cell": "Table of Contents",
   "title_sidebar": "Contents",
   "toc_cell": false,
   "toc_position": {},
   "toc_section_display": true,
   "toc_window_display": false
  }
 },
 "nbformat": 4,
 "nbformat_minor": 2
}
