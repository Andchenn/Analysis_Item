{
 "cells": [
  {
   "cell_type": "code",
   "execution_count": 25,
   "metadata": {},
   "outputs": [
    {
     "name": "stdout",
     "output_type": "stream",
     "text": [
      "<class 'pandas.core.frame.DataFrame'>\n",
      "RangeIndex: 3744 entries, 0 to 3743\n",
      "Data columns (total 7 columns):\n",
      "商品ID    3478 non-null float64\n",
      "类别ID    3478 non-null float64\n",
      "门店编号    3478 non-null object\n",
      "单价      3478 non-null float64\n",
      "销量      3478 non-null float64\n",
      "成交时间    3478 non-null datetime64[ns]\n",
      "订单ID    3478 non-null object\n",
      "dtypes: datetime64[ns](1), float64(4), object(2)\n",
      "memory usage: 204.8+ KB\n"
     ]
    }
   ],
   "source": [
    "import pandas as pd\n",
    "from datetime import datetime\n",
    "\n",
    "data=pd.read_csv(\"order-14.1.csv\",parse_dates=[\"成交时间\"],encoding='gbk')\n",
    "data.head()\n",
    "# print(data.head(5))\n",
    "# 查看源数据类型\n",
    "data.info()"
   ]
  },
  {
   "cell_type": "code",
   "execution_count": 17,
   "metadata": {},
   "outputs": [
    {
     "name": "stdout",
     "output_type": "stream",
     "text": [
      "本月销售额为：10412.78,客流量为：343,客单价为：30.36\n"
     ]
    }
   ],
   "source": [
    "# 计算本月的相关的指标\n",
    "This_month=data[(data[\"成交时间\"]>=datetime(2018,2,1))&(data[\"成交时间\"]<=datetime(2018,2,28))]\n",
    "# 销售额计算\n",
    "sales_1=(This_month[\"销量\"]*This_month['单价']).sum()\n",
    "# 客流量计算\n",
    "traffic_1=This_month[\"订单ID\"].drop_duplicates().count()\n",
    "# 客单价计算\n",
    "s_t_1=sales_1/traffic_1\n",
    "print(\"本月销售额为：{:.2f},客流量为：{},客单价为：{:.2f}\".format(sales_1,traffic_1,s_t_1))\n"
   ]
  },
  {
   "cell_type": "code",
   "execution_count": 19,
   "metadata": {},
   "outputs": [
    {
     "name": "stdout",
     "output_type": "stream",
     "text": [
      "本月销售额为：9940.97,客流量为：315,客单价为：31.56\n"
     ]
    }
   ],
   "source": [
    "# 计算上月相关指标\n",
    "last_month=data[(data[\"成交时间\"]>=datetime(2018,1,1))&(data[\"成交时间\"]<=datetime(2018,1,31))]\n",
    "\n",
    "# 销售额计算\n",
    "sales_2=(last_month[\"销量\"]*last_month['单价']).sum()\n",
    "# 客流量计算\n",
    "traffic_2=last_month[\"订单ID\"].drop_duplicates().count()\n",
    "# 客单价计算\n",
    "s_t_2=sales_2/traffic_2\n",
    "print(\"本月销售额为：{:.2f},客流量为：{},客单价为：{:.2f}\".format(sales_2,traffic_2,s_t_2))\n"
   ]
  },
  {
   "cell_type": "code",
   "execution_count": 20,
   "metadata": {},
   "outputs": [
    {
     "name": "stdout",
     "output_type": "stream",
     "text": [
      "本月销售额为：8596.31,客流量为：262,客单价为：32.81\n"
     ]
    }
   ],
   "source": [
    "# 计算去年同期相关指标\n",
    "same_month=data[(data[\"成交时间\"]>=datetime(2017,2,1))&(data[\"成交时间\"]<=datetime(2017,2,28))]\n",
    "\n",
    "sales_3=(same_month[\"销量\"]*same_month[\"单价\"]).sum()\n",
    "\n",
    "traffic_3=same_month[\"订单ID\"].drop_duplicates().count()\n",
    "s_t_3=sales_3/traffic_3\n",
    "print(\"本月销售额为：{:.2f},客流量为：{},客单价为：{:.2f}\".format(sales_3,traffic_3,s_t_3))\n"
   ]
  },
  {
   "cell_type": "code",
   "execution_count": 29,
   "metadata": {},
   "outputs": [
    {
     "name": "stdout",
     "output_type": "stream",
     "text": [
      "10412.78007 343 30.357959387755105\n",
      "9940.97291 315 31.55864415873016\n",
      "8596.313470000001 262 32.810356755725195\n"
     ]
    }
   ],
   "source": [
    "# 利用函数提高编码效率\n",
    "def get_month_data(data):\n",
    "    sale=(data[\"销量\"]*data[\"单价\"]).sum()\n",
    "    traffic=data[\"订单ID\"].drop_duplicates().count()\n",
    "    s_t=sale/traffic\n",
    "    return (sale,traffic,s_t)\n",
    "\n",
    "# 本月相关指数\n",
    "sales_1,traffic_1,s_t_1=get_month_data(This_month)\n",
    "print(sales_1,traffic_1,s_t_1)\n",
    "\n",
    "# 上月相关指数\n",
    "sales_2,traffic_2,s_t_2=get_month_data(last_month)\n",
    "print(sales_2,traffic_2,s_t_2)\n",
    "\n",
    "# 去年同期相关指数\n",
    "sales_3,traffic_3,s_t_3=get_month_data(same_month)\n",
    "print(sales_3,traffic_3,s_t_3)\n"
   ]
  },
  {
   "cell_type": "code",
   "execution_count": 36,
   "metadata": {},
   "outputs": [
    {
     "name": "stdout",
     "output_type": "stream",
     "text": [
      "             本月累计         上月同期         去年同期\n",
      "销售额  10412.780070  9940.972910  8596.313470\n",
      "客流量    343.000000   315.000000   262.000000\n",
      "客单价     30.357959    31.558644    32.810357\n",
      "             本月累计         上月同期         去年同期        环比        同比\n",
      "销售额  10412.780070  9940.972910  8596.313470  0.047461  0.211308\n",
      "客流量    343.000000   315.000000   262.000000  0.088889  0.309160\n",
      "客单价     30.357959    31.558644    32.810357 -0.038046 -0.074745\n"
     ]
    }
   ],
   "source": [
    "report=pd.DataFrame([[sales_1,sales_2,sales_3],[traffic_1,traffic_2,traffic_3],[s_t_1,s_t_2,s_t_3]],columns=[\"本月累计\",\"上月同期\",\"去年同期\"],index=[\"销售额\",\"客流量\",\"客单价\"])\n",
    "print(report)\n",
    "# 添加同比和环比字段\n",
    "report[\"环比\"]=report[\"本月累计\"]/report[\"上月同期\"]-1\n",
    "\n",
    "report[\"同比\"]=report[\"本月累计\"]/report[\"去年同期\"]-1\n",
    "\n",
    "print(report)"
   ]
  },
  {
   "cell_type": "code",
   "execution_count": 37,
   "metadata": {},
   "outputs": [],
   "source": [
    "# 将结果导出本地\n",
    "report.to_csv(\"order.csv\",encoding=\"utf-8-sig\")"
   ]
  }
 ],
 "metadata": {
  "kernelspec": {
   "display_name": "Python 3",
   "language": "python",
   "name": "python3"
  },
  "language_info": {
   "codemirror_mode": {
    "name": "ipython",
    "version": 3
   },
   "file_extension": ".py",
   "mimetype": "text/x-python",
   "name": "python",
   "nbconvert_exporter": "python",
   "pygments_lexer": "ipython3",
   "version": "3.7.3"
  },
  "toc": {
   "base_numbering": 1,
   "nav_menu": {},
   "number_sections": true,
   "sideBar": true,
   "skip_h1_title": false,
   "title_cell": "Table of Contents",
   "title_sidebar": "Contents",
   "toc_cell": false,
   "toc_position": {},
   "toc_section_display": true,
   "toc_window_display": false
  }
 },
 "nbformat": 4,
 "nbformat_minor": 2
}
